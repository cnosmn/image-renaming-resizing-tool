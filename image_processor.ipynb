{
 "cells": [
  {
   "cell_type": "code",
   "execution_count": 1,
   "id": "1ab5f815",
   "metadata": {},
   "outputs": [],
   "source": [
    "#dosya ismi ve size degistirme      \n",
    "import os\n",
    "import cv2\n",
    "\n",
    "def change_name(folder,sinif_num):\n",
    "    for count, filename in enumerate(os.listdir(folder)):\n",
    "        #print('/home/gf/Desktop/data_ders/durak_txt/'+filename)\n",
    "        dst = f\"{str(sinif_num) + '-' + str(count)}.png\"\n",
    "        src =f\"{folder}/{filename}\"  # foldername/filename, if .py file is outside folder\n",
    "        dst =f\"{folder}/{dst}\"\n",
    "\n",
    "        # rename() function will\n",
    "        # rename all the files\n",
    "        os.rename(src, dst)\n",
    "\n",
    "def change_size(folder):\n",
    "    for count,filename in enumerate(os.listdir(folder)):\n",
    "        print(filename)\n",
    "        img = cv2.imread(folder + \"/\"+ filename, cv2.IMREAD_UNCHANGED)\n",
    "\n",
    "        print('Original Dimensions : ',img.shape)\n",
    "\n",
    "        scale_percent = 65 # percent of original size\n",
    "        width = int(img.shape[1] * scale_percent / 100)\n",
    "        height = int(img.shape[0] * scale_percent / 100)\n",
    "        dim = (width, height)\n",
    "\n",
    "        # resize image\n",
    "        resized = cv2.resize(img, dim, interpolation = cv2.INTER_AREA)\n",
    "\n",
    "        print('Resized Dimensions : ',resized.shape)\n",
    "\n",
    "        #cv2.imshow(\"Resized image\", resized)\n",
    "        #cv2.waitKey(0)\n",
    "        #cv2.destroyAllWindows()\n",
    "\n",
    "        cv2.imwrite(folder + \"/\"+ filename,resized)\n"
   ]
  },
  {
   "cell_type": "code",
   "execution_count": null,
   "id": "0fb520f2",
   "metadata": {},
   "outputs": [],
   "source": [
    "folder = \"/path/to/your/images\"\n",
    "#resim dosyanızın path ini yazın\n",
    "sinif_num = 8\n",
    "#etiket sınıfınızı yazın\n",
    "\n",
    "change_name(folder,sinif_num)\n",
    "change_size(folder)"
   ]
  }
 ],
 "metadata": {
  "kernelspec": {
   "display_name": "Python 3 (ipykernel)",
   "language": "python",
   "name": "python3"
  },
  "language_info": {
   "codemirror_mode": {
    "name": "ipython",
    "version": 3
   },
   "file_extension": ".py",
   "mimetype": "text/x-python",
   "name": "python",
   "nbconvert_exporter": "python",
   "pygments_lexer": "ipython3",
   "version": "3.10.6"
  }
 },
 "nbformat": 4,
 "nbformat_minor": 5
}
